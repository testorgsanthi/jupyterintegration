{
 "cells": [
  {
   "cell_type": "code",
   "execution_count": 1,
   "metadata": {},
   "outputs": [
    {
     "name": "stdout",
     "output_type": "stream",
     "text": [
      "Hello World@\n"
     ]
    }
   ],
   "source": [
    "print(\"Hello World@\")"
   ]
  },
  {
   "cell_type": "code",
   "execution_count": null,
   "metadata": {},
   "outputs": [],
   "source": [
    "import requests \n",
    "import json\n",
    "import pandas as pd\n",
    "\n",
    "\n",
    "header = { 'content-type': 'application/json'}\n",
    "response = requests.get('https://api.github.com/repos/Hygieia/Hygieia/pulls', headers=header)\n",
    "\n",
    "result = json.loads(response.text)\n",
    "result_df = pd.json_normalize(result)\n",
    "print(len(result_df))"
   ]
  }
 ],
 "metadata": {
  "kernelspec": {
   "display_name": "Python 3",
   "language": "python",
   "name": "python3"
  },
  "language_info": {
   "codemirror_mode": {
    "name": "ipython",
    "version": 3
   },
   "file_extension": ".py",
   "mimetype": "text/x-python",
   "name": "python",
   "nbconvert_exporter": "python",
   "pygments_lexer": "ipython3",
   "version": "3.8.5"
  }
 },
 "nbformat": 4,
 "nbformat_minor": 4
}
